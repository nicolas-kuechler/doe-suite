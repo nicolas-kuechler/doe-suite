{
 "cells": [
  {
   "cell_type": "code",
   "execution_count": null,
   "metadata": {},
   "outputs": [],
   "source": [
    "import sys\n",
    "import os\n",
    "\n",
    "\n",
    "%load_ext autoreload\n",
    "%autoreload 2\n",
    "\n",
    "path = os.path.abspath(\"../..\")\n",
    "\n",
    "print(f\"Project: {path}\")\n",
    "\n",
    "%env DOES_PROJECT_DIR=$path\n",
    "%env DOES_PROJECT_ID_SUFFIX=dbg\n",
    "\n",
    "does_config_path = os.path.join(os.environ[\"DOES_PROJECT_DIR\"], \"doe-suite-config\")\n",
    "\n",
    "path = os.path.join(does_config_path, \"does_etl_custom\")\n",
    "sys.path.append(path)\n"
   ]
  },
  {
   "cell_type": "code",
   "execution_count": null,
   "metadata": {},
   "outputs": [],
   "source": [
    "from doespy.etl.etl_debug import debug_compute_input_df, debug_super_etl_step\n",
    "from doespy.etl.steps.plots import ForEachPlotLoader\n",
    "#from etl.plots.custom_plots import DemoLatencyPlotLoader\n",
    "\n",
    "\n",
    "super_etl = \"demo_plots\"\n",
    "pipeline=\"pipeline_new\"\n",
    "StepCls=ForEachPlotLoader\n",
    "\n",
    "#debug_compute_input_df.cache_clear()\n",
    "df = debug_compute_input_df(super_etl=super_etl, pipeline=pipeline, StepCls=StepCls)\n",
    "\n",
    "display(df)\n",
    "\n",
    "res = debug_super_etl_step(super_etl=super_etl, pipeline=pipeline, StepCls=StepCls, df=df)\n",
    "\n",
    "display(res)"
   ]
  },
  {
   "cell_type": "code",
   "execution_count": null,
   "metadata": {},
   "outputs": [],
   "source": [
    "data_id = {'host_type': 'small_v2', 'exp_name': 'triangle1', 'x': '9', 'y': '4', 'value_col': 'run', 'error_col': None}\n",
    "\n",
    "query = \"{exp_name: exp_name == 'triangle1' || exp_name == 'triangle2', x: to_number(x) > 5}\"\n",
    "\n",
    "query = \"(exp_name == 'triangle1' || exp_name == 'triangle2') && to_number(x) > `5`\"\n",
    "\n",
    "import jmespath\n",
    "\n",
    "path = jmespath.search(query, data_id)\n",
    "\n",
    "print(path)"
   ]
  }
 ],
 "metadata": {
  "kernelspec": {
   "display_name": ".venv",
   "language": "python",
   "name": "python3"
  },
  "language_info": {
   "codemirror_mode": {
    "name": "ipython",
    "version": 3
   },
   "file_extension": ".py",
   "mimetype": "text/x-python",
   "name": "python",
   "nbconvert_exporter": "python",
   "pygments_lexer": "ipython3",
   "version": "3.10.12"
  }
 },
 "nbformat": 4,
 "nbformat_minor": 2
}
